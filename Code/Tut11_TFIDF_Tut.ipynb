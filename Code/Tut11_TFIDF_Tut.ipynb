{
 "cells": [
  {
   "cell_type": "markdown",
   "metadata": {},
   "source": [
    "### **Tutorial 11: TF-IDF**\n",
    "\n",
    "This tutorial explains the concept of **Term Frequency-Inverse Document Frequency (TF-IDF)**, a statistical measure used to evaluate the importance of a word in a document relative to a collection or corpus of documents. It is widely used in information retrieval and text mining tasks, such as document classification and clustering, and as a feature for natural language processing (NLP) models.\n",
    "\n",
    "**TF-IDF** is a product of two components:\n",
    "\n",
    "1. **Term Frequency (TF)**: This measures how frequently a term appears in a document. It can be calculated as:\n",
    "\n",
    "   $$\n",
    "   \\text{TF}(t, d) = \\frac{\\text{Number of times term t appears in document d}}{\\text{Total number of terms in document d}}\n",
    "   $$\n",
    "\n",
    "2. **Inverse Document Frequency (IDF)**: This measures the importance of the term in the entire corpus. It gives higher weight to terms that appear in fewer documents. It can be calculated as:\n",
    "\n",
    "   $$\n",
    "   \\text{IDF}(t, D) = \\log \\frac{|D|}{|\\{d \\in D: t \\in d\\}|}\n",
    "   $$\n",
    "\n",
    "\n",
    "\n",
    "The **TF-IDF** score is computed by multiplying the **TF** and **IDF** values:\n",
    "\n",
    "$$\n",
    "\\text{TF-IDF}(t, d, D) = \\text{TF}(t, d) \\times \\text{IDF}(t, D)\n",
    "$$\n",
    "\n",
    "---\n",
    "In this tutorial, we will build a TF-IDF model from scratch using Python. We will:\n",
    "- Create a custom implementation of TF-IDF calculation.\n",
    "- Implement the vectorization process for a small corpus of text.\n",
    "- Use this model to calculate the TF-IDF values for terms in each document.\n",
    "- Verify the results uisng Python built-in scikit-learn TF-IDF-Vectorizer. \n",
    "\n",
    "### **Steps:**\n",
    " \n",
    "1. **Calculate Term Frequency (TF)**:\n",
    "   - For each document, count the frequency of each term.\n",
    "\n",
    "2. **Calculate Inverse Document Frequency (IDF)**:\n",
    "   - For each term, calculate how many documents it appears in, and then compute the inverse frequency.\n",
    "\n",
    "3. **Compute TF-IDF**:\n",
    "   - Multiply TF and IDF values for each term in each document.\n",
    "\n"
   ]
  },
  {
   "cell_type": "code",
   "execution_count": 1,
   "metadata": {},
   "outputs": [],
   "source": [
    "from utils import tfidf_vectorizer as tv\n",
    "import pandas as pd\n",
    "\n",
    "tfidf = tv.Tfidf_Vectorizer()"
   ]
  },
  {
   "cell_type": "code",
   "execution_count": null,
   "metadata": {},
   "outputs": [],
   "source": [
    "# Please note that my method requires the corpus to be tokenized whereas scikit-learn requires the corpus to be a string. Which one is better?\n",
    "corpus = [\n",
    "    [\"yangon\", \"is\", \"a\", \"city\", \"with\", \"a\", \"rich\", \"history\"],\n",
    "    [\"bagan\", \"is\", \"famous\", \"for\", \"its\", \"ancient\", \"temples\", \"and\", \"pagodas\"],\n",
    "    [\"the\", \"irrawaddy\", \"river\", \"is\", \"the\", \"lifeline\", \"of\", \"myanmar\"],\n",
    "    [\"traditional\", \"foods\", \"like\", \"mohinga\", \"are\", \"popular\", \"in\", \"myanmar\"],\n",
    "    [\"the\", \"shwedagon\", \"pagoda\", \"is\", \"a\", \"sacred\", \"site\", \"in\", \"yangon\"],\n",
    "    [\"bamboo\", \"houses\", \"are\", \"common\", \"in\", \"rural\", \"areas\", \"of\", \"myanmar\"],\n",
    "    [\"mandalay\", \"is\", \"known\", \"for\", \"its\", \"cultural\", \"heritage\"],\n",
    "    [\"inle\", \"lake\", \"is\", \"famous\", \"for\", \"floating\", \"gardens\", \"and\", \"leg\", \"rowers\"],\n",
    "    [\"kuthodaw\", \"pagoda\", \"is\", \"home\", \"to\", \"the\", \"world's\", \"largest\", \"book\"],\n",
    "    [\"the\", \"thanaka\", \"paste\", \"is\", \"used\", \"as\", \"a\", \"traditional\", \"cosmetic\", \"in\", \"myanmar\"]\n",
    "]\n",
    "\n",
    "\n",
    "tfidf_matrix = tfidf.fit_transform(corpus)\n",
    "df_tfidf = pd.DataFrame(tfidf_matrix)\n",
    "df_tfidf = df_tfidf.fillna(0)\n",
    "df_tfidf"
   ]
  },
  {
   "cell_type": "code",
   "execution_count": null,
   "metadata": {},
   "outputs": [],
   "source": [
    "from sklearn.feature_extraction.text import TfidfVectorizer\n",
    "\n",
    "corpus = [\n",
    "    \"yangon is a city with a rich history\",\n",
    "    \"bagan is famous for its ancient temples and pagodas\",\n",
    "    \"the irrawaddy river is the lifeline of myanmar\",\n",
    "    \"traditional foods like mohinga are popular in myanmar\",\n",
    "    \"the shwedagon pagoda is a sacred site in yangon\",\n",
    "    \"bamboo houses are common in rural areas of myanmar\",\n",
    "    \"mandalay is known for its cultural heritage\",\n",
    "    \"inle lake is famous for floating gardens and leg rowers\",\n",
    "    \"kuthodaw pagoda is home to the world's largest book\",\n",
    "    \"the thanaka paste is used as a traditional cosmetic in myanmar\"\n",
    "]\n",
    "\n",
    "vectorizer = TfidfVectorizer()\n",
    "X = vectorizer.fit_transform(corpus)\n",
    "dense = X.todense()\n",
    "\n",
    "df = pd.DataFrame(dense, columns=vectorizer.get_feature_names_out())\n",
    "df\n"
   ]
  }
 ],
 "metadata": {
  "kernelspec": {
   "display_name": ".venv",
   "language": "python",
   "name": "python3"
  },
  "language_info": {
   "codemirror_mode": {
    "name": "ipython",
    "version": 3
   },
   "file_extension": ".py",
   "mimetype": "text/x-python",
   "name": "python",
   "nbconvert_exporter": "python",
   "pygments_lexer": "ipython3",
   "version": "3.12.2"
  }
 },
 "nbformat": 4,
 "nbformat_minor": 2
}
