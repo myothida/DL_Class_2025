{
 "cells": [
  {
   "cell_type": "code",
   "execution_count": 1,
   "metadata": {},
   "outputs": [
    {
     "name": "stdout",
     "output_type": "stream",
     "text": [
      "12971\n",
      "Data Batch Shape: torch.Size([32, 81])\n",
      "Label Batch Shape: torch.Size([32])\n"
     ]
    }
   ],
   "source": [
    "from utils.tokenizer import CharTokenizer, WordTokenizer\n",
    "from sklearn.model_selection import train_test_split\n",
    "from torch.utils.data import DataLoader, TensorDataset\n",
    "from torch.nn.utils.rnn import pad_sequence\n",
    "import torch.nn as nn\n",
    "import pandas as pd\n",
    "import torch\n",
    "import torch.optim as optim\n",
    "\n",
    "\n",
    "data = pd.read_csv('../data/news_data.csv', encoding='ISO-8859-1', header=None, names=['label', 'title'])\n",
    "\n",
    "text_paragraph = data['title'].str.cat(sep=' ')\n",
    "tokenizer = WordTokenizer.train_from_text(text_paragraph) \n",
    "\n",
    "vocab_size = tokenizer.vocabulary_size()\n",
    "print(vocab_size)\n",
    "seq_length = 100 # max. feature vector length for each title\n",
    "batch_size = 32\n",
    "\n",
    "# encode the input vetor (title)\n",
    "data['tokenized'] = data['title'].apply(tokenizer.encode)\n",
    "data['tokenized'] = data['tokenized'].apply(lambda x: x if len(x) > 0 else [0])\n",
    "padded_titles = pad_sequence( [tokens.clone().detach() for tokens in data['tokenized']], batch_first=True, padding_value=0)\n",
    "padded_titles = padded_titles[:, :seq_length] #keep max lenght at 50\n",
    "\n",
    "label_mapping = {label: idx for idx, label in enumerate(data['label'].unique())}\n",
    "data['label_encoded'] = data['label'].map(label_mapping)\n",
    "labels = torch.tensor(data['label_encoded'].values)\n",
    "\n",
    "\n",
    "train_titles, test_titles, train_labels, test_labels = train_test_split(padded_titles, labels, test_size=0.2, random_state=42)\n",
    "\n",
    "train_dataset = TensorDataset(train_titles, train_labels)\n",
    "test_dataset = TensorDataset(test_titles, test_labels)\n",
    "\n",
    "train_loader = DataLoader(train_dataset, batch_size=batch_size, shuffle=True)\n",
    "test_loader = DataLoader(test_dataset, batch_size=batch_size)\n",
    "\n",
    "train_iter = iter(train_loader)\n",
    "batch_data, batch_labels = next(train_iter)\n",
    "\n",
    "print(f\"Data Batch Shape: {batch_data.shape}\")\n",
    "print(f\"Label Batch Shape: {batch_labels.shape}\")\n",
    "\n"
   ]
  },
  {
   "cell_type": "code",
   "execution_count": 7,
   "metadata": {},
   "outputs": [
    {
     "data": {
      "text/plain": [
       "tensor([ 2022, 12396,  3650,    46, 12317,  7844,  9261, 10375, 10790, 12396,\n",
       "        10268,  7021, 10991, 12396,  5690,    46,  7044, 12316,  9674, 12819,\n",
       "        12317,  7844,  9674,  9214,    80,     0,     0,     0,     0,     0,\n",
       "            0,     0,     0,     0,     0,     0,     0,     0,     0,     0,\n",
       "            0,     0,     0,     0,     0,     0,     0,     0,     0,     0,\n",
       "            0,     0,     0,     0,     0,     0,     0,     0,     0,     0,\n",
       "            0,     0,     0,     0,     0,     0,     0,     0,     0,     0,\n",
       "            0,     0,     0,     0,     0,     0,     0,     0,     0,     0,\n",
       "            0])"
      ]
     },
     "execution_count": 7,
     "metadata": {},
     "output_type": "execute_result"
    }
   ],
   "source": [
    "padded_titles[0]"
   ]
  },
  {
   "cell_type": "code",
   "execution_count": 2,
   "metadata": {},
   "outputs": [],
   "source": [
    "class GRUModel(nn.Module):\n",
    "    def __init__(self, vocab_size, embedding_dim, hidden_size, output_size):\n",
    "        super(GRUModel, self).__init__()\n",
    "        self.embedding = nn.Embedding(vocab_size, embedding_dim)\n",
    "        self.gru = nn.GRU(embedding_dim, hidden_size, batch_first=True)\n",
    "        self.fc = nn.Linear(hidden_size, output_size)\n",
    "\n",
    "    def forward(self, x):\n",
    "        embedded = self.embedding(x)\n",
    "        gru_out, ht = self.gru(embedded)\n",
    "        # Take the output of the last time step\n",
    "        out = self.fc(ht[-1])  # Get the final hidden state\n",
    "        return out"
   ]
  },
  {
   "cell_type": "code",
   "execution_count": 3,
   "metadata": {},
   "outputs": [
    {
     "name": "stdout",
     "output_type": "stream",
     "text": [
      "Epoch 1/5, Loss: 0.9342051197270878\n",
      "Epoch 2/5, Loss: 0.8581156779508121\n",
      "Epoch 3/5, Loss: 0.714343252729197\n",
      "Epoch 4/5, Loss: 0.5920284097311926\n",
      "Epoch 5/5, Loss: 0.4790064952656871\n",
      "Accuracy: 68.56%\n"
     ]
    }
   ],
   "source": [
    "embedding_dim = 128\n",
    "hidden_size = 64\n",
    "output_size = len(label_mapping)\n",
    "\n",
    "# Initialize the model, criterion, and optimizer\n",
    "model = GRUModel(vocab_size, embedding_dim, hidden_size, output_size)\n",
    "criterion = nn.CrossEntropyLoss()\n",
    "optimizer = torch.optim.Adam(model.parameters(), lr=0.001)\n",
    "\n",
    "num_epochs = 5\n",
    "for epoch in range(num_epochs):\n",
    "    model.train()\n",
    "    total_loss = 0\n",
    "    for batch_data, batch_labels in train_loader:\n",
    "        optimizer.zero_grad()\n",
    "        \n",
    "        # Forward pass\n",
    "       \n",
    "        outputs = model(batch_data)\n",
    "        \n",
    "        # Compute loss\n",
    "        loss = criterion(outputs, batch_labels)\n",
    "        total_loss += loss.item()\n",
    "        \n",
    "        # Backward pass and optimization\n",
    "        loss.backward()\n",
    "        optimizer.step()\n",
    "\n",
    "    print(f\"Epoch {epoch+1}/{num_epochs}, Loss: {total_loss/len(train_loader)}\")\n",
    "\n",
    "# Test loop\n",
    "model.eval()\n",
    "correct = 0\n",
    "total = 0\n",
    "with torch.no_grad():\n",
    "    for batch_data, batch_labels in test_loader:\n",
    "        outputs = model(batch_data)\n",
    "        _, predicted = torch.max(outputs, 1)\n",
    "        total += batch_labels.size(0)\n",
    "        correct += (predicted == batch_labels).sum().item()\n",
    "\n",
    "accuracy = 100 * correct / total\n",
    "print(f\"Accuracy: {accuracy:.2f}%\")"
   ]
  }
 ],
 "metadata": {
  "kernelspec": {
   "display_name": ".venv",
   "language": "python",
   "name": "python3"
  },
  "language_info": {
   "codemirror_mode": {
    "name": "ipython",
    "version": 3
   },
   "file_extension": ".py",
   "mimetype": "text/x-python",
   "name": "python",
   "nbconvert_exporter": "python",
   "pygments_lexer": "ipython3",
   "version": "3.12.2"
  }
 },
 "nbformat": 4,
 "nbformat_minor": 2
}
